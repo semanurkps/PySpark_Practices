{
 "cells": [
  {
   "cell_type": "markdown",
   "id": "0e747490",
   "metadata": {},
   "source": [
    "# Start your first Spark Session 🎈"
   ]
  },
  {
   "cell_type": "markdown",
   "id": "ce903fc4",
   "metadata": {},
   "source": [
    "Findspark helps us to **find** and **start** Spark"
   ]
  },
  {
   "cell_type": "code",
   "execution_count": 1,
   "id": "c2d6bf49",
   "metadata": {},
   "outputs": [],
   "source": [
    "import findspark"
   ]
  },
  {
   "cell_type": "code",
   "execution_count": 2,
   "id": "59e97a99",
   "metadata": {},
   "outputs": [],
   "source": [
    "# Provide the path where you installed Spark\n",
    "\n",
    "findspark.init(\"c:\\spark\")"
   ]
  },
  {
   "cell_type": "code",
   "execution_count": 3,
   "id": "7ba2745f",
   "metadata": {},
   "outputs": [],
   "source": [
    "# Create Spark Sesion\n",
    "\n",
    "from pyspark.sql import SparkSession"
   ]
  },
  {
   "cell_type": "code",
   "execution_count": 4,
   "id": "db5956a5",
   "metadata": {},
   "outputs": [],
   "source": [
    "# This piece of code will generate a Spark session, however i is not named or configured. \n",
    "# In real-life, best practice is to create tailored and named sessions hat works best for your case. \n",
    "\n",
    "spark = SparkSession.builder.getOrCreate()"
   ]
  },
  {
   "cell_type": "code",
   "execution_count": 5,
   "id": "0855fcdd",
   "metadata": {},
   "outputs": [
    {
     "data": {
      "text/plain": [
       "'2.4.7'"
      ]
     },
     "execution_count": 5,
     "metadata": {},
     "output_type": "execute_result"
    }
   ],
   "source": [
    "# Check Spark version\n",
    "spark.version"
   ]
  },
  {
   "cell_type": "markdown",
   "id": "cacf7b3a",
   "metadata": {},
   "source": [
    "From this point, we have created our Spark Session. It is ready for usage. To make sure your session is created successfully, go to http://localhost:4040/jobs/ \n",
    "\n",
    "From this page, you can see and manage all the jobs you have created!"
   ]
  }
 ],
 "metadata": {
  "kernelspec": {
   "display_name": "Python 3",
   "language": "python",
   "name": "python3"
  },
  "language_info": {
   "codemirror_mode": {
    "name": "ipython",
    "version": 3
   },
   "file_extension": ".py",
   "mimetype": "text/x-python",
   "name": "python",
   "nbconvert_exporter": "python",
   "pygments_lexer": "ipython3",
   "version": "3.6.8"
  },
  "toc": {
   "base_numbering": 1,
   "nav_menu": {},
   "number_sections": true,
   "sideBar": true,
   "skip_h1_title": false,
   "title_cell": "Table of Contents",
   "title_sidebar": "Contents",
   "toc_cell": false,
   "toc_position": {},
   "toc_section_display": true,
   "toc_window_display": false
  }
 },
 "nbformat": 4,
 "nbformat_minor": 5
}
